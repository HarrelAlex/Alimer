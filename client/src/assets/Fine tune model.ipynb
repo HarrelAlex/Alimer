{
 "cells": [
  {
   "cell_type": "code",
   "execution_count": null,
   "metadata": {},
   "outputs": [],
   "source": [
    "import textstat                                                                                                                                     # type: ignore\n",
    "\n",
    "def assign_complexity(text):\n",
    "    score = textstat.flesch_reading_ease(text)\n",
    "    \n",
    "    if score > 60:\n",
    "        return \"Beginner\"\n",
    "    elif score > 30:\n",
    "        return \"Intermediate\"\n",
    "    else:\n",
    "        return \"Advanced\"\n",
    "\n",
    "# Apply labeling\n",
    "labeled_data = [{\"text\": data[\"text\"], \"complexity\": assign_complexity(data[\"text\"])}\n",
    "                for data in dataset[\"train\"] if len(data[\"text\"]) > 100] # type: ignore"
   ]
  },
  {
   "cell_type": "code",
   "execution_count": null,
   "metadata": {},
   "outputs": [],
   "source": [
    "from transformers import BertTokenizerFast, BertForSequenceClassification, Trainer, TrainingArguments\n",
    "import torch                                                                                                                                      # type: ignore\n",
    "from datasets import Dataset                                                                                                                      # type: ignore\n",
    "\n",
    "# Tokenizer\n",
    "tokenizer = BertTokenizerFast.from_pretrained(\"bert-base-uncased\")\n",
    "\n",
    "# Convert labeled data into Hugging Face dataset format\n",
    "def preprocess_function(examples):\n",
    "    return tokenizer(examples[\"text\"], truncation=True, padding=True)\n",
    "\n",
    "dataset = Dataset.from_list(labeled_data)\n",
    "encoded_dataset = dataset.map(preprocess_function, batched=True)\n",
    "\n",
    "# Convert labels to numerical values\n",
    "label_mapping = {\"Beginner\": 0, \"Intermediate\": 1, \"Advanced\": 2}\n",
    "encoded_dataset = encoded_dataset.map(lambda x: {\"labels\": label_mapping[x[\"complexity\"]]})\n",
    "\n",
    "# Load model\n",
    "model = BertForSequenceClassification.from_pretrained(\"bert-base-uncased\", num_labels=3)\n",
    "\n",
    "# Training setup\n",
    "training_args = TrainingArguments(\n",
    "    output_dir=\"./results\",\n",
    "    evaluation_strategy=\"epoch\",\n",
    "    num_train_epochs=3,\n",
    "    per_device_train_batch_size=16,\n",
    ")\n",
    "\n",
    "trainer = Trainer(\n",
    "    model=model,\n",
    "    args=training_args,\n",
    "    train_dataset=encoded_dataset,\n",
    ")\n",
    "\n",
    "# Train model\n",
    "trainer.train()"
   ]
  },
  {
   "cell_type": "code",
   "execution_count": null,
   "metadata": {},
   "outputs": [],
   "source": [
    "def predict_complexity(text):\n",
    "    inputs = tokenizer(text, return_tensors=\"pt\", truncation=True, padding=True)\n",
    "    outputs = model(**inputs)\n",
    "    predicted_class = torch.argmax(outputs.logits, dim=1).item()\n",
    "    \n",
    "    return [\"Beginner\", \"Intermediate\", \"Advanced\"][predicted_class]\n",
    "\n",
    "# Example: Classifying a study material text\n",
    "text_sample = \"Quantum entanglement is a physical phenomenon where...\"\n",
    "complexity_label = predict_complexity(text_sample)\n",
    "print(\"Predicted Complexity:\", complexity_label)"
   ]
  }
 ],
 "metadata": {
  "language_info": {
   "name": "python"
  }
 },
 "nbformat": 4,
 "nbformat_minor": 2
}
